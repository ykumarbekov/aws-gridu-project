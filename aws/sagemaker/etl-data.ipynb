{
 "cells": [
  {
   "cell_type": "code",
   "execution_count": 1,
   "metadata": {},
   "outputs": [
    {
     "name": "stdout",
     "output_type": "stream",
     "text": [
      "env: BUCKET=ykumarbekov-534348\n"
     ]
    }
   ],
   "source": [
    "%env BUCKET=ykumarbekov-534348"
   ]
  },
  {
   "cell_type": "code",
   "execution_count": 6,
   "metadata": {},
   "outputs": [],
   "source": [
    "import boto3\n",
    "import os\n",
    "import csv\n",
    "import pandas as pd\n",
    "from io import StringIO \n",
    "from sagemaker import get_execution_role\n",
    "\n",
    "bucket = os.environ['BUCKET']\n",
    "prefix = 'sagemaker/datasets'"
   ]
  },
  {
   "cell_type": "code",
   "execution_count": null,
   "metadata": {},
   "outputs": [],
   "source": [
    "# #############################\n",
    "# Preparing reviews.csv based on Datasets downloaded from Kaggle\n",
    "# #############################\n",
    "role = get_execution_role()\n",
    "pd.set_option('display.max_colwidth', -1)\n",
    "# ****\n",
    "aws_reviews_loc = 's3://{}/{}'.format(bucket, 'sagemaker/datasets/training/amazon-reviews.csv')\n",
    "prj_reviews_loc = 's3://{}/{}'.format(bucket, 'sagemaker/datasets/training/my_reviews.csv')\n",
    "spam_sms_loc = 's3://{}/{}'.format(bucket, 'sagemaker/datasets/training/dataset_spam.csv')\n",
    "spam_email_loc = 's3://{}/{}'.format(bucket,'sagemaker/datasets/training/spam_ham_dataset.csv')\n",
    "target_ds_loc = 's3://{}/{}'.format(bucket,'sagemaker/datasets/training/reviews.csv')\n",
    "# ****\n",
    "awsr = pd.read_csv(aws_reviews_loc, sep='\\t')\n",
    "prr = pd.read_csv(prj_reviews_loc, sep='|')\n",
    "spam_sms = pd.read_csv(spam_sms_loc, encoding='ISO-8859-1')\n",
    "spam_email = pd.read_csv(spam_email_loc)\n",
    "# #############################\n",
    "awsr_1 = awsr.loc[awsr.review.str.contains('book', na=False) & awsr.review.str.contains('read', na=False)]\n",
    "awsr_2 = awsr_1.loc[awsr_1.review.str.contains('baby|babies|son|mom|kid|daughter', case=False)==False] \n",
    "awsr_3 = awsr_2.loc[awsr_2.review.str.len()<1000]\n",
    "awsr_4 = awsr_3[['review','rating']]\n",
    "# ****\n",
    "prr_1 = prr.rename(columns={'review_text': 'review','review_stars':'rating'})\n",
    "# ****\n",
    "spam_sms_1 = spam_sms.loc[spam_sms.v1 == 'spam']\n",
    "spam_sms_2 = spam_sms_1.loc[spam_sms_1.v2.str.len()<1000][['v2']].head(25)\n",
    "spam_sms_3 = spam_sms_2.rename(columns={'v2':'review'})\n",
    "spam_sms_3['rating'] = 0\n",
    "# ****\n",
    "spam_email_1 = spam_email.loc[spam_email.label == 'spam']\n",
    "spam_email_2 = spam_email_1.loc[spam_email_1.text.str.len()<1000][['text']].head(25)\n",
    "spam_email_3 = spam_email_2.rename(columns={'text':'review'})\n",
    "spam_email_3['rating'] = 0\n",
    "# ****\n",
    "awsr_5 = pd.concat([awsr_4, prr_1], sort=False)\n",
    "awsr_6 = pd.concat([awsr_5, spam_sms_3], sort=False)\n",
    "awsr_fin = pd.concat([awsr_6, spam_email_3], sort=False)"
   ]
  },
  {
   "cell_type": "code",
   "execution_count": null,
   "metadata": {},
   "outputs": [],
   "source": [
    "import csv\n",
    "csv_buffer = StringIO()\n",
    "awsr_fin.to_csv(csv_buffer, sep='|', index=False, quoting=csv.QUOTE_MINIMAL)\n",
    "s3 = boto3.resource('s3')\n",
    "s3.Object(bucket, 'sagemaker/datasets/training/reviews.csv').put(Body=csv_buffer.getvalue())"
   ]
  },
  {
   "cell_type": "code",
   "execution_count": null,
   "metadata": {},
   "outputs": [],
   "source": [
    "# AWS example:\n",
    "import boto3, re, sys, math, json, os, sagemaker, urllib.request\n",
    "import numpy as np                                \n",
    "import pandas as pd\n",
    "from sagemaker import get_execution_role\n",
    "\n",
    "role = get_execution_role()\n",
    "try:\n",
    "  urllib.request.urlretrieve (\"https://d1.awsstatic.com/tmt/build-train-deploy-machine-learning-model-sagemaker/bank_clean.27f01fbbdf43271788427f3682996ae29ceca05d.csv\", \"bank_clean.csv\")\n",
    "  print('Success: downloaded bank_clean.csv.')\n",
    "except Exception as e:\n",
    "  print('Data load error: ',e)\n",
    "\n",
    "try:\n",
    "  model_data = pd.read_csv('./bank_clean.csv',index_col=0)\n",
    "  print('Success: Data loaded into dataframe.')\n",
    "except Exception as e:\n",
    "    print('Data load error: ',e)\n",
    "# #####\n",
    "train_data, test_data = np.split(model_data.sample(frac=1, random_state=1729), [int(0.7 * len(model_data))])\n",
    "# print(train_data.shape, test_data.shape)\n",
    "prefix = 'sagemaker/tests'\n",
    "pd.concat([train_data['y_yes'], train_data.drop(['y_no', 'y_yes'], axis=1)], axis=1)\\\n",
    ".to_csv('train.csv', index=False, header=False)\n",
    "boto3.Session().resource('s3').Bucket(bucket)\\\n",
    ".Object(os.path.join(prefix, 'train/train.csv')).upload_file('train.csv')\n",
    "s3_input_train = sagemaker.s3_input(s3_data='s3://{}/{}/train'.format(bucket, prefix), content_type='csv')\n",
    "print(s3_input_train)"
   ]
  },
  {
   "cell_type": "code",
   "execution_count": null,
   "metadata": {},
   "outputs": [],
   "source": [
    "train_loc = 's3://{}/{}'.format(bucket, 'sagemaker/tests/train/train.csv')\n",
    "df = pd.read_csv(train_loc)\n",
    "df.head(5)"
   ]
  },
  {
   "cell_type": "code",
   "execution_count": 22,
   "metadata": {},
   "outputs": [],
   "source": [
    "# #############################\n",
    "# Preparing training dataset based on Dataset: datasets_483_982_spam downloaded from Kaggle\n",
    "# Algorithm: XGBoost: binary logistic\n",
    "# 1st column: Label [1,0], or 1 - spam; 0 - ham\n",
    "# 2nd and other columns - features\n",
    "# Steps:\n",
    "# Remove all unnecessary columns \n",
    "# Clean data: remove excessed commas and quotes\n",
    "# #############################\n",
    "pd.set_option('display.max_colwidth', -1)\n",
    "prefix = 'sagemaker/datasets'\n",
    "train_key = '{}/{}/{}'.format(prefix, 'input','datasets_483_982_spam-2.csv')\n",
    "# df = pd.read_csv('s3://{}/{}'.format(bucket, train_key), encoding='ISO-8859-1', usecols=['v1', 'v2'])\n",
    "df = pd.read_csv('s3://{}/{}'.format(bucket, train_key), index_col=0)\n",
    "df.loc[df['v1'] == 'spam', 'v1'] = 1\n",
    "df.loc[(df['v1'] == 'ham'), 'v1'] = 0\n",
    "df1 = df[['v1','v2']]\n",
    "# df['v1'].unique()\n",
    "df1 = df.loc[df.v2.str.contains('\\,', na=False) == False]\n",
    "df2 = df1.loc[df1.v2.str.contains('\"') == False]\n",
    "# spam = df1.loc[df1.v1 == 'spam']; ham = df1.loc[df1.v1 == 'ham']\n",
    "# print('{} {} {}'.format(df1.shape[0], spam.shape[0], ham.shape[0]))\n",
    "# df2.shape\n",
    "df2.to_csv('datasets_483_982_spam-3.csv', header=False, index=False)\n",
    "boto3.Session().resource('s3').Bucket(bucket)\\\n",
    ".Object('sagemaker/datasets/input/datasets_483_982_spam-3.csv').upload_file('datasets_483_982_spam-3.csv')"
   ]
  },
  {
   "cell_type": "code",
   "execution_count": null,
   "metadata": {},
   "outputs": [],
   "source": [
    "train_key = '{}/{}/{}'.format(prefix, 'input','datasets_483_982_spam-3.csv')\n",
    "# model_data = pd.read_csv('s3://{}/{}'.format(bucket, train_key), \n",
    "#                         encoding='ISO-8859-1', index_col=0, usecols=['v1', 'v2'])\n",
    "md = pd.read_csv('s3://{}/{}'.format(bucket, train_key))\n",
    "md1 = md.loc[md.v2.str.contains('\"', na=False)]\n",
    "md1.head(5)"
   ]
  },
  {
   "cell_type": "code",
   "execution_count": null,
   "metadata": {},
   "outputs": [],
   "source": [
    "md0 = pd.read_csv('./train-capstone.csv', index_col=0)\n",
    "md0.tail(25)"
   ]
  },
  {
   "cell_type": "code",
   "execution_count": null,
   "metadata": {},
   "outputs": [],
   "source": []
  }
 ],
 "metadata": {
  "kernelspec": {
   "display_name": "conda_python3",
   "language": "python",
   "name": "conda_python3"
  },
  "language_info": {
   "codemirror_mode": {
    "name": "ipython",
    "version": 3
   },
   "file_extension": ".py",
   "mimetype": "text/x-python",
   "name": "python",
   "nbconvert_exporter": "python",
   "pygments_lexer": "ipython3",
   "version": "3.6.5"
  }
 },
 "nbformat": 4,
 "nbformat_minor": 4
}
